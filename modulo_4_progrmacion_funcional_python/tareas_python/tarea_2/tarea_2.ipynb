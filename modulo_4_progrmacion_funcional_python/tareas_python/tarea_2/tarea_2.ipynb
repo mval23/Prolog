{
 "cells": [
  {
   "cell_type": "markdown",
   "source": [
    "# Tarea 2"
   ],
   "metadata": {
    "collapsed": false
   },
   "id": "ece284f564a79e9a"
  },
  {
   "cell_type": "markdown",
   "source": [
    "Realice los siguientes ejercicios utilizando el archivo `NBA_2024_per_game.csv`:\n",
    "\n",
    "## Descripción de las columnas del dataframe\n",
    "- Rk: Posición\n",
    "- Player: Nombre del jugador\n",
    "- Pos: Posición\n",
    "- Age: Edad del jugador\n",
    "- Tm: Equipo\n",
    "- G: Partidos jugados\n",
    "- GS: Partido iniciados\n",
    "- MP: Minutos jugados por partido\n",
    "- FG: Tiros por partido\n",
    "- FGA: Intentos de tiros por partido\n",
    "- FG%: Porcentaje de tiros\n",
    "- 3P: Triples por partido\n",
    "- 3PA: Intentos de triples por partido\n",
    "- 3P%: Porcentaje de triples\n",
    "- 2P: Dobles por partido\n",
    "- 2PA: Intentos de dobles por partido\n",
    "- 2P%: Porcentaje de dobles\n",
    "- eFG%: Porcentaje efectivo de tiros\n",
    "- FT: Tiros libres por partido\n",
    "- FTA: Intentos de tiros libres por partido\n",
    "- FT%: Porcentaje de tiros libres\n",
    "- ORB: Rebotes ofensivos por partido\n",
    "- DRB: Rebotes defensivos por partido\n",
    "- TRB: Rebotes totales por partido\n",
    "- AST: Asistencias por partido\n",
    "- STL: Robos por partido\n",
    "- BLK: Bloqueos partido\n",
    "- TOV: Pérdidas de balón por partido\n",
    "- PF: Faltas personales por partido\n",
    "- PTS: Puntos por partido\n",
    "- PTS: Puntos por partido"
   ],
   "metadata": {
    "collapsed": false
   },
   "id": "392d61386804939c"
  },
  {
   "cell_type": "code",
   "execution_count": 84,
   "outputs": [],
   "source": [
    "import pandas as pd\n",
    "\n",
    "# Cargar el archivo CSV\n",
    "df = pd.read_csv('NBA_2024_per_game.csv')"
   ],
   "metadata": {
    "collapsed": false,
    "ExecuteTime": {
     "end_time": "2023-11-16T13:56:06.802714200Z",
     "start_time": "2023-11-16T13:56:06.756497200Z"
    }
   },
   "id": "aac759af9bb12b90"
  },
  {
   "cell_type": "markdown",
   "source": [
    "### 1. Encontrar el jugador que más tiempo haya jugado en la temporada."
   ],
   "metadata": {
    "collapsed": false
   },
   "id": "915de4fd2f61e2b0"
  },
  {
   "cell_type": "code",
   "execution_count": 85,
   "outputs": [
    {
     "name": "stdout",
     "output_type": "stream",
     "text": [
      "El jugador que más tiempo ha jugado es: Shaedon Sharpe\n",
      "Ha jugado: 39.1 minutos\n"
     ]
    }
   ],
   "source": [
    "#  jugador que más tiempo haya jugado en la temporada -> jugador con la mayor cantidad de minutos jugados\n",
    "jugador_mas_tiempo = df.loc[df['MP'].idxmax()]['Player']\n",
    "# usando el jugador encontrado, encontrar la cantidad de minutos jugados\n",
    "minutos_jugados = df.loc[df['Player'] == jugador_mas_tiempo]['MP'].values[0]\n",
    "print(\"El jugador que más tiempo ha jugado es:\", jugador_mas_tiempo)\n",
    "print(\"Ha jugado:\",minutos_jugados , \"minutos\")"
   ],
   "metadata": {
    "collapsed": false,
    "ExecuteTime": {
     "end_time": "2023-11-16T13:56:06.881978200Z",
     "start_time": "2023-11-16T13:56:06.776558700Z"
    }
   },
   "id": "aa4859583ddc14a1"
  },
  {
   "cell_type": "markdown",
   "source": [
    "### 2. Encontrar todos los jugadores que hayan jugado para los Cleveland Cavaliers (CLE) en la posición de Point Guard (PG).\n",
    "Lista de jugadores que:\n",
    " - han participado como Point Guard (PG) \n",
    "  - jugando en el equipo Cleveland Cavaliers (CLE)."
   ],
   "metadata": {
    "collapsed": false
   },
   "id": "86f5df34d75c9f44"
  },
  {
   "cell_type": "code",
   "execution_count": 86,
   "outputs": [
    {
     "name": "stdout",
     "output_type": "stream",
     "text": [
      "Los jugadores que han participado como Point Guard (PG) para el equipo Cleveland Cavaliers (CLE) son:\n",
      "- Darius Garland\n",
      "- Craig Porter Jr.\n"
     ]
    }
   ],
   "source": [
    "jugadores = df.loc[(df['Tm'] == 'CLE') & (df['Pos'] == 'PG')]['Player'].values\n",
    "print(\"Los jugadores que han participado como Point Guard (PG) para el equipo Cleveland Cavaliers (CLE) son:\")\n",
    "for jugador in jugadores:\n",
    "    print('-', jugador)"
   ],
   "metadata": {
    "collapsed": false,
    "ExecuteTime": {
     "end_time": "2023-11-16T13:56:06.881978200Z",
     "start_time": "2023-11-16T13:56:06.786752500Z"
    }
   },
   "id": "f553c8ca9cc04d9d"
  },
  {
   "cell_type": "markdown",
   "source": [
    "### 3. Encontrar los jugadores que tengan más de 1 robo por partido y más de 1 bloqueo por partido utilizando list comprehension.\n",
    "Identificar a los jugadores que:\n",
    " - han logrado más de 1 robo por partido\n",
    "  - han logrado más de 1 bloqueo por partido"
   ],
   "metadata": {
    "collapsed": false
   },
   "id": "a95d6a3fc60e8584"
  },
  {
   "cell_type": "code",
   "execution_count": 87,
   "outputs": [
    {
     "name": "stdout",
     "output_type": "stream",
     "text": [
      "Los jugadores que han logrado más de 1 robo y más de 1 bloqueo por partido en la temporada son:\n",
      "- Scottie Barnes\n",
      "- Victor Wembanyama\n",
      "- Derrick White\n",
      "- Luguentz Dort\n",
      "- Aaron Gordon\n",
      "- Ausar Thompson\n",
      "- Herbert Jones\n",
      "- Robert Williams\n"
     ]
    }
   ],
   "source": [
    "jugadores = [jugador for index, jugador in df.loc[(df['STL'] > 1) & (df['BLK'] > 1), 'Player'].items()]\n",
    "print(\"Los jugadores que han logrado más de 1 robo y más de 1 bloqueo por partido en la temporada son:\")\n",
    "for jugador in jugadores:\n",
    "    print('-', jugador)"
   ],
   "metadata": {
    "collapsed": false,
    "ExecuteTime": {
     "end_time": "2023-11-16T13:56:06.881978200Z",
     "start_time": "2023-11-16T13:56:06.806719600Z"
    }
   },
   "id": "74c320e76c6b9996"
  },
  {
   "cell_type": "markdown",
   "source": [
    "### 4. Encontrar cuál es el porcentaje de canastas de 3 puntos que se hacen en la liga.\n",
    "\n",
    " Total de canastas de 3 puntos realizadas en la liga en relación con el total de intentos de triples"
   ],
   "metadata": {
    "collapsed": false
   },
   "id": "a0408c2c94d07372"
  },
  {
   "cell_type": "code",
   "execution_count": 88,
   "outputs": [
    {
     "name": "stdout",
     "output_type": "stream",
     "text": [
      "El porcentaje de canastas de 3 puntos que se hacen en la liga es: 35.38 %\n"
     ]
    }
   ],
   "source": [
    "porcentaje_triples = df['3P'].sum() / df['3PA'].sum() * 100\n",
    "print(\"El porcentaje de canastas de 3 puntos que se hacen en la liga es:\", round(porcentaje_triples, 2), \"%\")"
   ],
   "metadata": {
    "collapsed": false,
    "ExecuteTime": {
     "end_time": "2023-11-16T13:56:06.881978200Z",
     "start_time": "2023-11-16T13:56:06.818792700Z"
    }
   },
   "id": "c7e0368465a18b7a"
  },
  {
   "cell_type": "markdown",
   "source": [
    "### 5. Encontrar qué jugadores estuvieron en 2 equipos o más en una sola temporada."
   ],
   "metadata": {
    "collapsed": false
   },
   "id": "24ca3db245e45058"
  },
  {
   "cell_type": "code",
   "execution_count": 89,
   "outputs": [
    {
     "name": "stdout",
     "output_type": "stream",
     "text": [
      "Jugadores que estuvieron en 2 equipos o mas en una temporada:\n",
      "- Nicolas Batum\n",
      "- KJ Martin\n",
      "- Robert Covington\n",
      "- P.J. Tucker\n"
     ]
    }
   ],
   "source": [
    "# Identificar a los jugadores que han formado parte de 2 equipos o más durante una única temporada\n",
    "jugadores_dos_equipos = df[df.duplicated(subset=['Player'], keep=False)]['Player'].unique().tolist()\n",
    "print(\"Jugadores que estuvieron en 2 equipos o mas en una temporada:\")\n",
    "for jugador in jugadores_dos_equipos:\n",
    "    print('-', jugador)\n"
   ],
   "metadata": {
    "collapsed": false,
    "ExecuteTime": {
     "end_time": "2023-11-16T13:56:06.881978200Z",
     "start_time": "2023-11-16T13:56:06.836564300Z"
    }
   },
   "id": "ec4fc6be3c80347b"
  },
  {
   "cell_type": "code",
   "execution_count": 90,
   "outputs": [
    {
     "name": "stdout",
     "output_type": "stream",
     "text": [
      "Nicolas Batum jugo en los equipos:\n",
      "- PHI\n",
      "- TOT\n",
      "- LAC\n",
      "KJ Martin jugo en los equipos:\n",
      "- LAC\n",
      "- TOT\n",
      "- PHI\n",
      "Robert Covington jugo en los equipos:\n",
      "- PHI\n",
      "- TOT\n",
      "- LAC\n",
      "P.J. Tucker jugo en los equipos:\n",
      "- PHI\n",
      "- TOT\n",
      "- LAC\n"
     ]
    }
   ],
   "source": [
    "for jugador in jugadores_dos_equipos:\n",
    "    equipos = df.loc[df['Player'] == jugador]['Tm'].values\n",
    "    print( jugador, \"jugo en los equipos:\")\n",
    "    for equipo in equipos:\n",
    "        print('-', equipo)"
   ],
   "metadata": {
    "collapsed": false,
    "ExecuteTime": {
     "end_time": "2023-11-16T13:56:06.881978200Z",
     "start_time": "2023-11-16T13:56:06.856788800Z"
    }
   },
   "id": "20e4dee1afa46155"
  }
 ],
 "metadata": {
  "kernelspec": {
   "display_name": "Python 3",
   "language": "python",
   "name": "python3"
  },
  "language_info": {
   "codemirror_mode": {
    "name": "ipython",
    "version": 2
   },
   "file_extension": ".py",
   "mimetype": "text/x-python",
   "name": "python",
   "nbconvert_exporter": "python",
   "pygments_lexer": "ipython2",
   "version": "2.7.6"
  }
 },
 "nbformat": 4,
 "nbformat_minor": 5
}
